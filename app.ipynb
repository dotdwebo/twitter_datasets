import requests
import pandas as pd

url = "https://api.twitter.com/2/openapi.json"
response = requests.get(url)

if response.status_code == 200:
    json_data = response.json()
    
    df = pd.json_normalize(json_data)
    # Perform further operations with the Pandas DataFrame
    print(df.head())
else:
    print("Failed to download the JSON file. Status code:", response.status_code)

